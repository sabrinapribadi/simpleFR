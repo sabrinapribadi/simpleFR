{
 "cells": [
  {
   "cell_type": "code",
   "execution_count": 4,
   "metadata": {
    "colab": {
     "base_uri": "https://localhost:8080/",
     "height": 228
    },
    "colab_type": "code",
    "executionInfo": {
     "elapsed": 1192,
     "status": "error",
     "timestamp": 1600818551045,
     "user": {
      "displayName": "Sabrina Pribadi",
      "photoUrl": "https://lh3.googleusercontent.com/a-/AOh14Gic8_SfeXu7ymOciRHy_3Bh-SIrIY8f0ppK4hmcGw=s64",
      "userId": "00073919329495445548"
     },
     "user_tz": -420
    },
    "id": "70oSMD0bNpNz",
    "outputId": "8d978fed-16b4-45f8-9020-8e91dfb45e9a"
   },
   "outputs": [
    {
     "ename": "ModuleNotFoundError",
     "evalue": "No module named 'cv2'",
     "output_type": "error",
     "traceback": [
      "\u001b[1;31m---------------------------------------------------------------------------\u001b[0m",
      "\u001b[1;31mModuleNotFoundError\u001b[0m                       Traceback (most recent call last)",
      "\u001b[1;32m<ipython-input-4-bd2cdcd9500e>\u001b[0m in \u001b[0;36m<module>\u001b[1;34m\u001b[0m\n\u001b[1;32m----> 1\u001b[1;33m \u001b[1;32mimport\u001b[0m \u001b[0mcv2\u001b[0m\u001b[1;33m\u001b[0m\u001b[1;33m\u001b[0m\u001b[0m\n\u001b[0m\u001b[0;32m      2\u001b[0m \u001b[1;32mimport\u001b[0m \u001b[0mnumpy\u001b[0m \u001b[1;32mas\u001b[0m \u001b[0mnp\u001b[0m\u001b[1;33m\u001b[0m\u001b[1;33m\u001b[0m\u001b[0m\n",
      "\u001b[1;31mModuleNotFoundError\u001b[0m: No module named 'cv2'"
     ]
    }
   ],
   "source": [
    "import cv2\n",
    "import numpy as np"
   ]
  },
  {
   "cell_type": "code",
   "execution_count": null,
   "metadata": {
    "colab": {},
    "colab_type": "code",
    "id": "diDLgKAuNpOG"
   },
   "outputs": [],
   "source": [
    "face_haar = cv2.CascadeClassifier('/haarcascades/haarcascade_frontalface_default.xml')\n",
    "cap = cv2.VideoCapture(0)\n",
    "cap.set(3,640)\n",
    "cap.set(4,480)\n",
    "\n",
    "while True:\n",
    "    ret,frame = cap.read()    \n",
    "    gray = cv2.cvtColor(frame,cv2.COLOR_BGR2GRAY)\n",
    "    faces = face_haar.detectMultiScale(gray,scaleFactor=1.3,minNeighbors=5)\n",
    "    \n",
    "    # Resize Image \n",
    "    minisize = (frame.shape[1],frame.shape[0])\n",
    "    miniframe = cv2.resize(frame, minisize)\n",
    "    faces = face_haar.detectMultiScale (miniframe)\n",
    "    \n",
    "    # Draw Rectangle and Saved\n",
    "    \n",
    "    for f in faces:\n",
    "        x,y,w,h = [v for v in f]\n",
    "        cv2.rectangle(frame,(x,y),(x+w,y+h),(0,0,0),5)\n",
    "        \n",
    "        #save the detected face\n",
    "        det_face = frame[y:y+h, x:x+w]\n",
    "        cv2.imshow('det_face',det_face)\n",
    "        cv2.imshow('frame',frame)\n",
    "    \n",
    "    k = cv2.waitKey(10) & 0xff # Press 'ESC' for exiting video\n",
    "    if k == 27:\n",
    "        break\n",
    "        \n",
    "cap.release()        \n",
    "cv2.destroyAllWindows"
   ]
  }
 ],
 "metadata": {
  "colab": {
   "name": "TechTest12.ipynb",
   "provenance": []
  },
  "kernelspec": {
   "display_name": "Python 3",
   "language": "python",
   "name": "python3"
  },
  "language_info": {
   "codemirror_mode": {
    "name": "ipython",
    "version": 3
   },
   "file_extension": ".py",
   "mimetype": "text/x-python",
   "name": "python",
   "nbconvert_exporter": "python",
   "pygments_lexer": "ipython3",
   "version": "3.7.6"
  }
 },
 "nbformat": 4,
 "nbformat_minor": 1
}
