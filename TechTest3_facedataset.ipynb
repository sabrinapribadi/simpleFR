{
 "cells": [
  {
   "cell_type": "code",
   "execution_count": 1,
   "metadata": {},
   "outputs": [
    {
     "name": "stdout",
     "output_type": "stream",
     "text": [
      "\n",
      " enter user id end press <return> ==>  5\n",
      "\n",
      " [INFO] Initializing face capture. Look the camera and wait ...\n",
      "\n",
      " [INFO] Exiting Program and cleanup stuff\n"
     ]
    },
    {
     "data": {
      "text/plain": [
       "<function destroyAllWindows>"
      ]
     },
     "execution_count": 1,
     "metadata": {},
     "output_type": "execute_result"
    }
   ],
   "source": [
    "import cv2\n",
    "import numpy as np\n",
    "\n",
    "face_haar = cv2.CascadeClassifier('D:/OneDrive/Thesis/Python/Qlue - Tech Test/haarcascades/haarcascade_frontalface_default.xml')\n",
    "cap = cv2.VideoCapture(0)\n",
    "cap.set(3,640)\n",
    "cap.set(4,480)\n",
    "\n",
    "# For each person, enter one numeric face id\n",
    "face_id = input('\\n enter user id end press <return> ==>  ')\n",
    "\n",
    "print(\"\\n [INFO] Initializing face capture. Look the camera and wait ...\")\n",
    "# Initialize individual sampling face count\n",
    "count = 0\n",
    "\n",
    "\n",
    "while True:\n",
    "    ret,frame = cap.read()    \n",
    "    gray = cv2.cvtColor(frame,cv2.COLOR_BGR2GRAY)\n",
    "    faces = face_haar.detectMultiScale(gray,scaleFactor=1.2,minNeighbors=5)\n",
    "    \n",
    "    # Resize Image \n",
    "    minisize = (frame.shape[1],frame.shape[0])\n",
    "    miniframe = cv2.resize(frame, minisize)\n",
    "    faces = face_haar.detectMultiScale (miniframe)\n",
    "    \n",
    "    # Draw Rectangle and Saved\n",
    "    \n",
    "    for f in faces:\n",
    "        x,y,w,h = [v for v in f]\n",
    "        cv2.rectangle(frame,(x,y),(x+w,y+h),(0,0,0),2)\n",
    "        count += 1\n",
    "        \n",
    "         # Save the captured image into the datasets folder\n",
    "        cv2.imwrite(\"D:/OneDrive/Thesis/Python/Qlue - Tech Test/FacialRecognitionProject/dataset/User.\" + str(face_id) + '.' + str(count) + \".jpg\", gray[y:y+h,x:x+w])\n",
    "                \n",
    "        #save the detected face                \n",
    "        cv2.imshow('frame',frame)\n",
    "    \n",
    "    exkey = cv2.waitKey(1) & 0xff    \n",
    "    if count >= 50:\n",
    "        break\n",
    "    elif exkey == 27:\n",
    "        break\n",
    "        \n",
    "print(\"\\n [INFO] Exiting Program and cleanup stuff\")        \n",
    "cap.release()        \n",
    "cv2.destroyAllWindows"
   ]
  },
  {
   "cell_type": "code",
   "execution_count": null,
   "metadata": {},
   "outputs": [],
   "source": []
  }
 ],
 "metadata": {
  "kernelspec": {
   "display_name": "Python 3",
   "language": "python",
   "name": "python3"
  },
  "language_info": {
   "codemirror_mode": {
    "name": "ipython",
    "version": 3
   },
   "file_extension": ".py",
   "mimetype": "text/x-python",
   "name": "python",
   "nbconvert_exporter": "python",
   "pygments_lexer": "ipython3",
   "version": "3.7.0"
  }
 },
 "nbformat": 4,
 "nbformat_minor": 2
}
